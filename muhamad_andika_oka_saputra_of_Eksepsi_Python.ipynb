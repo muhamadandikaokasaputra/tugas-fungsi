{
  "nbformat": 4,
  "nbformat_minor": 0,
  "metadata": {
    "colab": {
      "provenance": [],
      "collapsed_sections": [],
      "include_colab_link": true
    },
    "kernelspec": {
      "name": "python3",
      "display_name": "Python 3"
    },
    "language_info": {
      "name": "python"
    }
  },
  "cells": [
    {
      "cell_type": "markdown",
      "metadata": {
        "id": "view-in-github",
        "colab_type": "text"
      },
      "source": [
        "<a href=\"https://colab.research.google.com/github/muhamadandikaokasaputra/tugas-fungsi/blob/main/muhamad_andika_oka_saputra_of_Eksepsi_Python.ipynb\" target=\"_parent\"><img src=\"https://colab.research.google.com/assets/colab-badge.svg\" alt=\"Open In Colab\"/></a>"
      ]
    },
    {
      "cell_type": "code",
      "execution_count": null,
      "metadata": {
        "id": "BrORntwRWJP2"
      },
      "outputs": [],
      "source": []
    },
    {
      "cell_type": "markdown",
      "source": [
        "**Pengertian Eksepsi**\n",
        "Eksepsi (*exception*) merupakan suatu kesalahan (error) yang terjadi saat proses eksekusi program sedang berjalan, kesalahan ini akan menyebabkan program berakhir dengan tidak normal. Kesalahan-kesalahan ini dapat diidentifikasikan dengan nama tertentu dan direpresentasikan sebagai objek di dalam python.\n",
        "\n",
        "Contoh:\n",
        "Perhatikan program berikut:\n",
        "\n",
        "\n",
        "```javascript\n",
        "  a = 1\n",
        "  b = 'X'\n",
        "  print(a+b)\n",
        "```\n",
        "\n",
        "\n",
        "Program ini mencoba untuk menjumlahkan variabel **a+b **namun variabel b memiliki tipe data string, sehingga hal ini akan memicu bangkitnya eksepsi karena akan terjadi error.\n",
        "\n",
        "Dalam kasus ini eksepsi yang dibangkitkan adalah **TypeError** dimana operan tidak didukung penjumlahan antara tipe *integer* dan *string.*"
      ],
      "metadata": {
        "id": "H5zZdsi4WLUW"
      }
    },
    {
      "cell_type": "markdown",
      "source": [
        "**Membangkitkan Eksepsi dengan raise**\n",
        "\n",
        "Di dalam python ada banyak tipe eksepsi di dalam python, yang semuanya bisa dibangkitkan baik pada saat penanganan kesalahan (error) atau bisa juga kita bangkitkan secara paksa dengan menggunakan perintah raise."
      ],
      "metadata": {
        "id": "nTpm73sTXdP4"
      }
    },
    {
      "cell_type": "code",
      "source": [
        "#Program 1\n",
        "raise TypeError"
      ],
      "metadata": {
        "id": "Ml15vhXrXkup",
        "outputId": "253a3e6f-3522-406e-8e6c-76227807b66b",
        "colab": {
          "base_uri": "https://localhost:8080/",
          "height": 184
        }
      },
      "execution_count": null,
      "outputs": [
        {
          "output_type": "error",
          "ename": "TypeError",
          "evalue": "ignored",
          "traceback": [
            "\u001b[0;31m---------------------------------------------------------------------------\u001b[0m",
            "\u001b[0;31mTypeError\u001b[0m                                 Traceback (most recent call last)",
            "\u001b[0;32m<ipython-input-22-7427fceeb65d>\u001b[0m in \u001b[0;36m<module>\u001b[0;34m\u001b[0m\n\u001b[1;32m      1\u001b[0m \u001b[0;31m#Program 1\u001b[0m\u001b[0;34m\u001b[0m\u001b[0;34m\u001b[0m\u001b[0;34m\u001b[0m\u001b[0m\n\u001b[0;32m----> 2\u001b[0;31m \u001b[0;32mraise\u001b[0m \u001b[0mTypeError\u001b[0m\u001b[0;34m\u001b[0m\u001b[0;34m\u001b[0m\u001b[0m\n\u001b[0m",
            "\u001b[0;31mTypeError\u001b[0m: "
          ]
        }
      ]
    },
    {
      "cell_type": "markdown",
      "source": [
        "Contoh di atas kita membangkitkan eksepsi dengan tipe TypeError menggunakan perintah raise, meskipun sebenarnya di dalam kode tersebut tidak ada kesalahan penggunaan tipe data yang tidak sesuai."
      ],
      "metadata": {
        "id": "U552f1g3X4CW"
      }
    },
    {
      "cell_type": "markdown",
      "source": [
        "**Penanganan Eksepsi Menggunakan Blok try … except**\n",
        "\n",
        "Jika kalian pernah belajar C++ atau Java penanganan eksepsi menggunakan blok **try … catch**, sedikit berbeda namanya dengan python menggunakan blok try … except bentuk umumnya seperti berikut:\n",
        "\n",
        "\n",
        "```python\n",
        "# This is formatted as code\n",
        "try:\n",
        "    # kode\n",
        "except TipeEksepsi:\n",
        "    # Penanganan kesalahan\n",
        "```\n",
        "\n",
        "Setiap kode program yang memungkinkan terjadinya eksepsi, maka perlu untuk di tempatkan di dalam blok try. Ketika ada kesalahan maka kode di blok except akan dieksekusi , sebaliknya jika program tidak memiliki kesalahan maka blok except akan di abaikan."
      ],
      "metadata": {
        "id": "PBtmBPwUYBvJ"
      }
    },
    {
      "cell_type": "markdown",
      "source": [
        "**Contoh Blok try … except di python**\n",
        "\n",
        "Perhatikan program berikut:\n",
        "\n",
        "\n",
        "```python\n",
        "#Program 2\n",
        "# This is formatted as code\n",
        "  import sys\n",
        "  try:\n",
        "      a = int(input(\"Masukan nilai a : \"))\n",
        "      b = int(input(\"Masukan nilai b : \"))\n",
        "  except ValueError:\n",
        "      print(\"Nilai harus bertipe numerik\")\n",
        "      sys.exit()\n",
        "  hasil=a+b\n",
        "  print(\"Hasil Penjumlahan :\",hasil)\n",
        "\n",
        "```\n",
        "Pada contoh program di atas kita akan menjumlahkan nilai a dan b yang akan di masukan oleh pengguna. Karena inputan dari pengguna memungkinkan terjadi kesalahan maka perintah tersebut kita tempatkan di dalam blok try, apabila terjadi eksepsi dengan tipe ValueError maka kode di dalam blok except akan di eksekusi.\n",
        "\n",
        "Tipe eksepsi ValueError adalah eksepsi untuk menangani kesalahan konversi tipe data. ketika pengguna memasukan nilai selain integer maka eksepsi ini akan dibangkitkan. Selain itu kita juga menggunakan perintah exit() di dalam modul sys untuk menghentikan eksekusi program yang sedang berjalan saat terjadi eksepsi.\n",
        "\n",
        "Apabila tidak terjadi eksepsi maka kode di dalam blok except tidak akan di eksekusi oleh program dan langsung melompat ke perintah program selanjutnya."
      ],
      "metadata": {
        "id": "zNdEwhMSYbhj"
      }
    },
    {
      "cell_type": "code",
      "source": [
        "#implementasi program 2"
      ],
      "metadata": {
        "id": "cdWWNZV8Zzg6"
      },
      "execution_count": null,
      "outputs": []
    },
    {
      "cell_type": "markdown",
      "source": [
        "**Menambahkan Klausa else dalam Blok try … except**\n",
        "\n",
        "\n",
        "\n",
        "```python\n",
        "   #Program 3\n",
        "    try:\n",
        "        a = int(input(\"Masukan nilai a : \"))\n",
        "        b = int(input(\"Masukan nilai b : \"))\n",
        "    except ValueError:\n",
        "        print(\"Nilai harus bertipe numerik\")\n",
        "    else: \n",
        "        hasil=a+b\n",
        "        print(\"Hasil Penjumlahan :\",hasil)\n",
        "```\n",
        "\n",
        "\n",
        "Pada contoh kedua kita menambahkan klausa else, dimana kode-kode yang berada pada bagian else hanya akan dieksekusi ketika tidak terjadi kesalahan saat mengeksekusi kode di bagian try, ini berarti jika terjadi eksepsi kode pada bagian else tidak akan di eksekusi.\n",
        "\n",
        "Perbedaan program pertama dan kedua selain ada penambahan klausa else, pada program kedua kita sudah tidak menggunakan fungsi exit() dari modul sys karena program akan melompat ke bagian else saat tidak terjadi eksepsi."
      ],
      "metadata": {
        "id": "SovTJEa_Yvtb"
      }
    },
    {
      "cell_type": "code",
      "source": [
        "#Implementasi Program 3\n"
      ],
      "metadata": {
        "id": "uo6bKxXUaDhs"
      },
      "execution_count": null,
      "outputs": []
    },
    {
      "cell_type": "markdown",
      "source": [
        "**Menggunakan Perintah assert**\n",
        "\n",
        "Perintah assert merupakan bentuk sederhana untuk memeriksa suatu ekspresi bertipe boolean apakah bernilai benar (true) atau salah (false). Berikut ini adalah bentuk umumnya:\n",
        "\n",
        "\n",
        "```python\n",
        "# This is formatted as code\n",
        "  assert Ekspresi, Argumen\n",
        "```\n",
        "\n",
        "Jika ekspresi bernilai salah maka eksepsi akan di bangkitkan dengan tipe AssertionError.\n",
        "\n",
        "\n",
        "\n",
        "```python\n",
        "#Program 4\n",
        "  a = int(input(\"Masukan nilai a : \"))\n",
        "  assert a > 0, \"Nilai harus lebih dari 0\"\n",
        "# This is formatted as code\n",
        "```\n",
        "Perintah assert biasanya digunakan untuk melacak kesalahan (debugging) di dalam kode program.\n",
        "\n",
        "\n"
      ],
      "metadata": {
        "id": "zzGZ0JbPZHVj"
      }
    },
    {
      "cell_type": "code",
      "source": [
        "# Implementasi Program 4\n",
        "try:\n",
        "        a = int(input(\"Masukan nilai a : \"))\n",
        "        b = int(input(\"Masukan nilai b : \"))\n",
        "except ValueError:\n",
        "        print(\"Nilai harus bertipe numerik\")\n",
        "else: \n",
        "        hasil=a/b\n",
        "        print(\"Hasil Penjumlahan :\",hasil)\n"
      ],
      "metadata": {
        "id": "BB3Au8GmaOew",
        "outputId": "40073738-cb9c-46fb-d001-489072e425d8",
        "colab": {
          "base_uri": "https://localhost:8080/"
        }
      },
      "execution_count": null,
      "outputs": [
        {
          "output_type": "stream",
          "name": "stdout",
          "text": [
            "Masukan nilai a : 9\n",
            "Masukan nilai b : 9\n",
            "Hasil Penjumlahan : 1.0\n"
          ]
        }
      ]
    },
    {
      "cell_type": "markdown",
      "source": [
        "**Tugas**\n",
        "1. Buatlah aplikasi pembagian 2 (dua) buah bilangan\n",
        "2. Implementasi eksepsi pada program nomor 1 untuk pengendalian error yang mungkin terjadi\n",
        "\n",
        "jawaban nomer 2.\n",
        "Eksepsi muncul bila terjadi error pada saat runtime atau saat program berjalan. Akan tetapi, kita juga bisa memunculkan eksepsi dengan sengaja untuk maksud tertentu dengan menggunakan kata kunci raise."
      ],
      "metadata": {
        "id": "qfeGKS3BcCUc"
      }
    }
  ]
}